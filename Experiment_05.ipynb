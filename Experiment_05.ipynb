{
 "cells": [
  {
   "cell_type": "markdown",
   "id": "9e9f7573-8292-4ab7-a8f5-ea1e6e29b85f",
   "metadata": {},
   "source": [
    "# Array Creation in NumPy"
   ]
  },
  {
   "cell_type": "code",
   "execution_count": 2,
   "id": "35c4148a-691c-45d5-a509-b4f6b0c6edfa",
   "metadata": {},
   "outputs": [],
   "source": [
    "# Experiment No. : 05"
   ]
  },
  {
   "cell_type": "code",
   "execution_count": 4,
   "id": "cda96f5b-754a-44ce-a563-443f0b920e87",
   "metadata": {},
   "outputs": [],
   "source": [
    "# Aim: To perform operation of Array Creation in NumPy"
   ]
  },
  {
   "cell_type": "code",
   "execution_count": 6,
   "id": "8864203e-85ad-4076-bad3-67ee0a36e618",
   "metadata": {},
   "outputs": [],
   "source": [
    "# Date: 02/08/2024"
   ]
  },
  {
   "cell_type": "code",
   "execution_count": 8,
   "id": "b48e1d01-eec3-43d6-8cd9-4f642adcf3d7",
   "metadata": {},
   "outputs": [],
   "source": [
    "# Roll No. : 05"
   ]
  },
  {
   "cell_type": "code",
   "execution_count": 10,
   "id": "bdc2533f-c319-4238-8901-b5e9fa914c9b",
   "metadata": {},
   "outputs": [],
   "source": [
    "# Section : B"
   ]
  },
  {
   "cell_type": "code",
   "execution_count": 12,
   "id": "0fd004cd-1880-4eb9-9959-a4a279ae1075",
   "metadata": {},
   "outputs": [],
   "source": [
    "#Subject: ET - 1"
   ]
  },
  {
   "cell_type": "code",
   "execution_count": 14,
   "id": "a1acbdd7-a047-43e6-8b3c-9621257b158c",
   "metadata": {},
   "outputs": [],
   "source": [
    "import numpy as np"
   ]
  },
  {
   "cell_type": "code",
   "execution_count": 16,
   "id": "bacd72b4-719c-47e3-b7bb-0c5adca502b0",
   "metadata": {},
   "outputs": [
    {
     "name": "stdout",
     "output_type": "stream",
     "text": [
      "[1 2 3 4 5]\n"
     ]
    }
   ],
   "source": [
    "array_1d = np.array([1, 2, 3, 4, 5])\n",
    "print(array_1d)"
   ]
  },
  {
   "cell_type": "code",
   "execution_count": 18,
   "id": "6e095e68-454f-4073-ba86-6cf95501b9c6",
   "metadata": {},
   "outputs": [
    {
     "name": "stdout",
     "output_type": "stream",
     "text": [
      "[[1 2 3]\n",
      " [4 5 6]]\n"
     ]
    }
   ],
   "source": [
    "array_2d = np.array([[1, 2, 3], [4, 5, 6]])\n",
    "print(array_2d)"
   ]
  },
  {
   "cell_type": "code",
   "execution_count": 20,
   "id": "9de4c774-db20-49b9-b690-3c17fa0fba42",
   "metadata": {},
   "outputs": [
    {
     "name": "stdout",
     "output_type": "stream",
     "text": [
      "[[0. 0. 0.]\n",
      " [0. 0. 0.]\n",
      " [0. 0. 0.]]\n"
     ]
    }
   ],
   "source": [
    "zeros_array = np.zeros((3, 3))\n",
    "print(zeros_array)"
   ]
  },
  {
   "cell_type": "code",
   "execution_count": 22,
   "id": "7d656db6-661d-4686-855e-6aa4aee6b836",
   "metadata": {},
   "outputs": [
    {
     "name": "stdout",
     "output_type": "stream",
     "text": [
      "[0 2 4 6 8]\n"
     ]
    }
   ],
   "source": [
    "range_array = np.arange(0, 10, 2)  # Start, stop, step\n",
    "print(range_array)"
   ]
  },
  {
   "cell_type": "code",
   "execution_count": 24,
   "id": "de7c1615-337d-4120-b6fc-7b65f351713f",
   "metadata": {},
   "outputs": [
    {
     "name": "stdout",
     "output_type": "stream",
     "text": [
      "[[0.02127755 0.32696759 0.11888167]\n",
      " [0.69291925 0.6376354  0.29101225]\n",
      " [0.01784228 0.55392636 0.73312699]]\n"
     ]
    }
   ],
   "source": [
    "random_array = np.random.rand(3, 3)\n",
    "print(random_array)"
   ]
  },
  {
   "cell_type": "code",
   "execution_count": null,
   "id": "094110b1-a7d6-4e02-9494-bd6c6121ff2d",
   "metadata": {},
   "outputs": [],
   "source": []
  }
 ],
 "metadata": {
  "kernelspec": {
   "display_name": "Python 3 (ipykernel)",
   "language": "python",
   "name": "python3"
  },
  "language_info": {
   "codemirror_mode": {
    "name": "ipython",
    "version": 3
   },
   "file_extension": ".py",
   "mimetype": "text/x-python",
   "name": "python",
   "nbconvert_exporter": "python",
   "pygments_lexer": "ipython3",
   "version": "3.12.4"
  }
 },
 "nbformat": 4,
 "nbformat_minor": 5
}
