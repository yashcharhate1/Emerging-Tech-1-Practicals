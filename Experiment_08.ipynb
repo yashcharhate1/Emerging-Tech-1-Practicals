{
 "cells": [
  {
   "cell_type": "markdown",
   "id": "96b9f651-2e4a-4592-9205-e06d22773660",
   "metadata": {},
   "source": [
    "# Central Tendancy of Measures"
   ]
  },
  {
   "cell_type": "code",
   "execution_count": 2,
   "id": "572cea23-3068-46ec-a42a-df0847726046",
   "metadata": {},
   "outputs": [],
   "source": [
    "# Experiment No. : 08"
   ]
  },
  {
   "cell_type": "code",
   "execution_count": 4,
   "id": "4d2b7713-3f95-4e46-8fb9-190b07eedcea",
   "metadata": {},
   "outputs": [],
   "source": [
    "# Aim: To perform operation of Central Tendancy of Measures"
   ]
  },
  {
   "cell_type": "code",
   "execution_count": 42,
   "id": "2392b4a3-0841-41f9-ab94-7398328b8915",
   "metadata": {},
   "outputs": [],
   "source": [
    "# Date: 06/09/2024"
   ]
  },
  {
   "cell_type": "code",
   "execution_count": 8,
   "id": "6e703fc5-0752-4d44-9747-bb04002e1b89",
   "metadata": {},
   "outputs": [],
   "source": [
    "# Roll No. : 05"
   ]
  },
  {
   "cell_type": "code",
   "execution_count": 10,
   "id": "c2b6b8cc-704b-4a3a-a172-152a5ecb4794",
   "metadata": {},
   "outputs": [],
   "source": [
    "# Section : B"
   ]
  },
  {
   "cell_type": "code",
   "execution_count": 12,
   "id": "fad3b4c5-8bac-4c7c-95cc-cbf50763381e",
   "metadata": {},
   "outputs": [],
   "source": [
    "#Subject: ET - 1"
   ]
  },
  {
   "cell_type": "code",
   "execution_count": 14,
   "id": "e6a40f83-2b7c-40a2-81a1-4745e5d2a1ff",
   "metadata": {},
   "outputs": [],
   "source": [
    "import pandas as pd"
   ]
  },
  {
   "cell_type": "code",
   "execution_count": 16,
   "id": "a395e6a7-e03f-4d58-aa27-1600a9091ff9",
   "metadata": {},
   "outputs": [],
   "source": [
    "import os"
   ]
  },
  {
   "cell_type": "code",
   "execution_count": 18,
   "id": "a44f5b8b-eeb8-417e-9171-737eb5466232",
   "metadata": {},
   "outputs": [
    {
     "data": {
      "text/plain": [
       "'C:\\\\Users\\\\yashc'"
      ]
     },
     "execution_count": 18,
     "metadata": {},
     "output_type": "execute_result"
    }
   ],
   "source": [
    "os.getcwd()"
   ]
  },
  {
   "cell_type": "code",
   "execution_count": 20,
   "id": "5f1ee2d8-403c-4136-8f52-7dd02e5f0f0a",
   "metadata": {},
   "outputs": [],
   "source": [
    "os.chdir(\"C:\\\\Users\\\\yashc\\\\OneDrive\\\\Desktop\")"
   ]
  },
  {
   "cell_type": "code",
   "execution_count": 28,
   "id": "9fc2986e-9efc-409f-abdc-a068babe7c6b",
   "metadata": {},
   "outputs": [],
   "source": [
    "df=pd.read_csv(\"gender_submission.csv\")"
   ]
  },
  {
   "cell_type": "code",
   "execution_count": 30,
   "id": "8c4bad4d-cfd2-4e24-947b-608ae08b62a1",
   "metadata": {},
   "outputs": [
    {
     "name": "stdout",
     "output_type": "stream",
     "text": [
      "<class 'pandas.core.frame.DataFrame'>\n",
      "RangeIndex: 418 entries, 0 to 417\n",
      "Data columns (total 2 columns):\n",
      " #   Column       Non-Null Count  Dtype\n",
      "---  ------       --------------  -----\n",
      " 0   PassengerId  418 non-null    int64\n",
      " 1   Survived     418 non-null    int64\n",
      "dtypes: int64(2)\n",
      "memory usage: 6.7 KB\n",
      "None\n"
     ]
    }
   ],
   "source": [
    "print(df.info())"
   ]
  },
  {
   "cell_type": "code",
   "execution_count": 32,
   "id": "5c69bc9d-2ec1-4c1f-a185-9fa239e6e9de",
   "metadata": {},
   "outputs": [
    {
     "name": "stdout",
     "output_type": "stream",
     "text": [
      "Mean Passenger: 1100.5\n",
      "Mean survived: 0.36363636363636365\n"
     ]
    }
   ],
   "source": [
    "mean_PassengerId = df['PassengerId'].mean()\n",
    "mean_Survived = df['Survived'].mean()\n",
    "\n",
    "print(f\"Mean Passenger: {mean_PassengerId}\")\n",
    "print(f\"Mean survived: {mean_Survived}\")"
   ]
  },
  {
   "cell_type": "code",
   "execution_count": 38,
   "id": "3af7c32a-ca20-426e-a07b-c6427273afd1",
   "metadata": {},
   "outputs": [
    {
     "name": "stdout",
     "output_type": "stream",
     "text": [
      "Median Passenger: 1100.5\n",
      "Median survived: 0.0\n"
     ]
    }
   ],
   "source": [
    "median_PassengerId = df['PassengerId'].median()\n",
    "median_Survived = df['Survived'].median()\n",
    "\n",
    "print(f\"Median Passenger: {median_PassengerId}\")\n",
    "print(f\"Median survived: {median_Survived}\")"
   ]
  },
  {
   "cell_type": "code",
   "execution_count": 40,
   "id": "e6a3cd5e-732f-43d3-bf6a-36e2f67170a4",
   "metadata": {},
   "outputs": [
    {
     "name": "stdout",
     "output_type": "stream",
     "text": [
      "Mode Passenger: 0       892\n",
      "1       893\n",
      "2       894\n",
      "3       895\n",
      "4       896\n",
      "       ... \n",
      "413    1305\n",
      "414    1306\n",
      "415    1307\n",
      "416    1308\n",
      "417    1309\n",
      "Name: PassengerId, Length: 418, dtype: int64\n",
      "Mode survived: 0    0\n",
      "Name: Survived, dtype: int64\n"
     ]
    }
   ],
   "source": [
    "mode_PassengerId = df['PassengerId'].mode()\n",
    "mode_Survived = df['Survived'].mode()\n",
    "\n",
    "print(f\"Mode Passenger: {mode_PassengerId}\")\n",
    "print(f\"Mode survived: {mode_Survived}\")"
   ]
  },
  {
   "cell_type": "code",
   "execution_count": null,
   "id": "3852da68-9ef4-49b3-84f7-ef052311ff79",
   "metadata": {},
   "outputs": [],
   "source": []
  }
 ],
 "metadata": {
  "kernelspec": {
   "display_name": "Python 3 (ipykernel)",
   "language": "python",
   "name": "python3"
  },
  "language_info": {
   "codemirror_mode": {
    "name": "ipython",
    "version": 3
   },
   "file_extension": ".py",
   "mimetype": "text/x-python",
   "name": "python",
   "nbconvert_exporter": "python",
   "pygments_lexer": "ipython3",
   "version": "3.12.4"
  }
 },
 "nbformat": 4,
 "nbformat_minor": 5
}
